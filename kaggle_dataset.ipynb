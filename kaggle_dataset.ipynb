{
 "cells": [
  {
   "cell_type": "code",
   "execution_count": 1,
   "id": "64efe402-9438-4835-880a-584eb61f9cbd",
   "metadata": {},
   "outputs": [],
   "source": [
    "%matplotlib inline"
   ]
  },
  {
   "cell_type": "code",
   "execution_count": 2,
   "id": "181fea22-b12a-407a-9a42-95c859a9d9b6",
   "metadata": {},
   "outputs": [],
   "source": [
    "import os\n",
    "import pandas as pd\n",
    "import matplotlib.pyplot as plt"
   ]
  },
  {
   "cell_type": "code",
   "execution_count": 3,
   "id": "780ad317-84a6-41c6-a16a-37d41c48bcfe",
   "metadata": {},
   "outputs": [],
   "source": [
    "# Read the CSV file\n",
    "df = pd.read_csv('./bestsellers_with_categories.csv')"
   ]
  },
  {
   "cell_type": "code",
   "execution_count": 4,
   "id": "5e45ce8c-1422-4801-8570-300e7d936b71",
   "metadata": {},
   "outputs": [
    {
     "data": {
      "text/html": [
       "<div>\n",
       "<style scoped>\n",
       "    .dataframe tbody tr th:only-of-type {\n",
       "        vertical-align: middle;\n",
       "    }\n",
       "\n",
       "    .dataframe tbody tr th {\n",
       "        vertical-align: top;\n",
       "    }\n",
       "\n",
       "    .dataframe thead th {\n",
       "        text-align: right;\n",
       "    }\n",
       "</style>\n",
       "<table border=\"1\" class=\"dataframe\">\n",
       "  <thead>\n",
       "    <tr style=\"text-align: right;\">\n",
       "      <th></th>\n",
       "      <th>Name</th>\n",
       "      <th>Author</th>\n",
       "      <th>User Rating</th>\n",
       "      <th>Reviews</th>\n",
       "      <th>Price</th>\n",
       "      <th>Year</th>\n",
       "      <th>Genre</th>\n",
       "    </tr>\n",
       "  </thead>\n",
       "  <tbody>\n",
       "    <tr>\n",
       "      <th>0</th>\n",
       "      <td>10-Day Green Smoothie Cleanse</td>\n",
       "      <td>JJ Smith</td>\n",
       "      <td>4.7</td>\n",
       "      <td>17350</td>\n",
       "      <td>8</td>\n",
       "      <td>2016</td>\n",
       "      <td>Non Fiction</td>\n",
       "    </tr>\n",
       "    <tr>\n",
       "      <th>1</th>\n",
       "      <td>11/22/63: A Novel</td>\n",
       "      <td>Stephen King</td>\n",
       "      <td>4.6</td>\n",
       "      <td>2052</td>\n",
       "      <td>22</td>\n",
       "      <td>2011</td>\n",
       "      <td>Fiction</td>\n",
       "    </tr>\n",
       "    <tr>\n",
       "      <th>2</th>\n",
       "      <td>12 Rules for Life: An Antidote to Chaos</td>\n",
       "      <td>Jordan B. Peterson</td>\n",
       "      <td>4.7</td>\n",
       "      <td>18979</td>\n",
       "      <td>15</td>\n",
       "      <td>2018</td>\n",
       "      <td>Non Fiction</td>\n",
       "    </tr>\n",
       "    <tr>\n",
       "      <th>3</th>\n",
       "      <td>1984 (Signet Classics)</td>\n",
       "      <td>George Orwell</td>\n",
       "      <td>4.7</td>\n",
       "      <td>21424</td>\n",
       "      <td>6</td>\n",
       "      <td>2017</td>\n",
       "      <td>Fiction</td>\n",
       "    </tr>\n",
       "    <tr>\n",
       "      <th>4</th>\n",
       "      <td>5,000 Awesome Facts (About Everything!) (Natio...</td>\n",
       "      <td>National Geographic Kids</td>\n",
       "      <td>4.8</td>\n",
       "      <td>7665</td>\n",
       "      <td>12</td>\n",
       "      <td>2019</td>\n",
       "      <td>Non Fiction</td>\n",
       "    </tr>\n",
       "  </tbody>\n",
       "</table>\n",
       "</div>"
      ],
      "text/plain": [
       "                                                Name  \\\n",
       "0                      10-Day Green Smoothie Cleanse   \n",
       "1                                  11/22/63: A Novel   \n",
       "2            12 Rules for Life: An Antidote to Chaos   \n",
       "3                             1984 (Signet Classics)   \n",
       "4  5,000 Awesome Facts (About Everything!) (Natio...   \n",
       "\n",
       "                     Author  User Rating  Reviews  Price  Year        Genre  \n",
       "0                  JJ Smith          4.7    17350      8  2016  Non Fiction  \n",
       "1              Stephen King          4.6     2052     22  2011      Fiction  \n",
       "2        Jordan B. Peterson          4.7    18979     15  2018  Non Fiction  \n",
       "3             George Orwell          4.7    21424      6  2017      Fiction  \n",
       "4  National Geographic Kids          4.8     7665     12  2019  Non Fiction  "
      ]
     },
     "execution_count": 4,
     "metadata": {},
     "output_type": "execute_result"
    }
   ],
   "source": [
    "# Output the first five rows\n",
    "df.head()"
   ]
  },
  {
   "cell_type": "code",
   "execution_count": 5,
   "id": "af31a4e0-caea-4beb-9810-293292efe71c",
   "metadata": {},
   "outputs": [
    {
     "data": {
      "text/plain": [
       "(550, 7)"
      ]
     },
     "execution_count": 5,
     "metadata": {},
     "output_type": "execute_result"
    }
   ],
   "source": [
    "# Output dataset sizes\n",
    "df.shape"
   ]
  },
  {
   "cell_type": "code",
   "execution_count": 6,
   "id": "fb9028e4-01f4-41b6-bfa8-5ff1849a216a",
   "metadata": {},
   "outputs": [
    {
     "name": "stdout",
     "output_type": "stream",
     "text": [
      "Answer: The dataset stores data about 351 books.\n"
     ]
    }
   ],
   "source": [
    "# How many books does the dataset store?\n",
    "num_unique_books = df['Name'].nunique()\n",
    "print(f\"Answer: The dataset stores data about {num_unique_books} books.\")"
   ]
  },
  {
   "cell_type": "code",
   "execution_count": 7,
   "id": "6fa1fc5c-8c98-4284-94a4-774f2f4a9f64",
   "metadata": {},
   "outputs": [
    {
     "data": {
      "text/html": [
       "<div>\n",
       "<style scoped>\n",
       "    .dataframe tbody tr th:only-of-type {\n",
       "        vertical-align: middle;\n",
       "    }\n",
       "\n",
       "    .dataframe tbody tr th {\n",
       "        vertical-align: top;\n",
       "    }\n",
       "\n",
       "    .dataframe thead th {\n",
       "        text-align: right;\n",
       "    }\n",
       "</style>\n",
       "<table border=\"1\" class=\"dataframe\">\n",
       "  <thead>\n",
       "    <tr style=\"text-align: right;\">\n",
       "      <th></th>\n",
       "      <th>name</th>\n",
       "      <th>author</th>\n",
       "      <th>user_rating</th>\n",
       "      <th>reviews</th>\n",
       "      <th>price</th>\n",
       "      <th>year</th>\n",
       "      <th>genre</th>\n",
       "    </tr>\n",
       "  </thead>\n",
       "  <tbody>\n",
       "    <tr>\n",
       "      <th>0</th>\n",
       "      <td>10-Day Green Smoothie Cleanse</td>\n",
       "      <td>JJ Smith</td>\n",
       "      <td>4.7</td>\n",
       "      <td>17350</td>\n",
       "      <td>8</td>\n",
       "      <td>2016</td>\n",
       "      <td>Non Fiction</td>\n",
       "    </tr>\n",
       "    <tr>\n",
       "      <th>1</th>\n",
       "      <td>11/22/63: A Novel</td>\n",
       "      <td>Stephen King</td>\n",
       "      <td>4.6</td>\n",
       "      <td>2052</td>\n",
       "      <td>22</td>\n",
       "      <td>2011</td>\n",
       "      <td>Fiction</td>\n",
       "    </tr>\n",
       "    <tr>\n",
       "      <th>2</th>\n",
       "      <td>12 Rules for Life: An Antidote to Chaos</td>\n",
       "      <td>Jordan B. Peterson</td>\n",
       "      <td>4.7</td>\n",
       "      <td>18979</td>\n",
       "      <td>15</td>\n",
       "      <td>2018</td>\n",
       "      <td>Non Fiction</td>\n",
       "    </tr>\n",
       "    <tr>\n",
       "      <th>3</th>\n",
       "      <td>1984 (Signet Classics)</td>\n",
       "      <td>George Orwell</td>\n",
       "      <td>4.7</td>\n",
       "      <td>21424</td>\n",
       "      <td>6</td>\n",
       "      <td>2017</td>\n",
       "      <td>Fiction</td>\n",
       "    </tr>\n",
       "    <tr>\n",
       "      <th>4</th>\n",
       "      <td>5,000 Awesome Facts (About Everything!) (Natio...</td>\n",
       "      <td>National Geographic Kids</td>\n",
       "      <td>4.8</td>\n",
       "      <td>7665</td>\n",
       "      <td>12</td>\n",
       "      <td>2019</td>\n",
       "      <td>Non Fiction</td>\n",
       "    </tr>\n",
       "  </tbody>\n",
       "</table>\n",
       "</div>"
      ],
      "text/plain": [
       "                                                name  \\\n",
       "0                      10-Day Green Smoothie Cleanse   \n",
       "1                                  11/22/63: A Novel   \n",
       "2            12 Rules for Life: An Antidote to Chaos   \n",
       "3                             1984 (Signet Classics)   \n",
       "4  5,000 Awesome Facts (About Everything!) (Natio...   \n",
       "\n",
       "                     author  user_rating  reviews  price  year        genre  \n",
       "0                  JJ Smith          4.7    17350      8  2016  Non Fiction  \n",
       "1              Stephen King          4.6     2052     22  2011      Fiction  \n",
       "2        Jordan B. Peterson          4.7    18979     15  2018  Non Fiction  \n",
       "3             George Orwell          4.7    21424      6  2017      Fiction  \n",
       "4  National Geographic Kids          4.8     7665     12  2019  Non Fiction  "
      ]
     },
     "execution_count": 7,
     "metadata": {},
     "output_type": "execute_result"
    }
   ],
   "source": [
    "# Change column names\n",
    "df.columns = ['name', 'author', 'user_rating', 'reviews', 'price', 'year', 'genre']\n",
    "df.head()"
   ]
  },
  {
   "cell_type": "code",
   "execution_count": 8,
   "id": "299a2df8-7ca4-4d84-bcb2-8ae55075940a",
   "metadata": {},
   "outputs": [
    {
     "name": "stdout",
     "output_type": "stream",
     "text": [
      "Answer: No\n"
     ]
    }
   ],
   "source": [
    "# Are there gaps in any variables? (Yes / No)\n",
    "missing_data = df.isna().sum()\n",
    "print(f\"Answer: {'Yes' if missing_data.any() else 'No'}\")"
   ]
  },
  {
   "cell_type": "code",
   "execution_count": 9,
   "id": "9fed4ae2-dc38-4ea9-b7cf-bd3ce69de62f",
   "metadata": {},
   "outputs": [
    {
     "name": "stdout",
     "output_type": "stream",
     "text": [
      "Answer: Non Fiction and Fiction are unique genres.\n"
     ]
    }
   ],
   "source": [
    "# What are the unique genres?\n",
    "unique_genres = df['genre'].unique()\n",
    "print(f\"Answer: {' and '.join(unique_genres)} are unique genres.\")"
   ]
  },
  {
   "cell_type": "code",
   "execution_count": 10,
   "id": "81e3693c-0855-4098-99c0-3516af83494f",
   "metadata": {},
   "outputs": [
    {
     "data": {
      "image/png": "[encoded data removed]",
      "text/plain": [
       "<Figure size 1400x600 with 1 Axes>"
      ]
     },
     "metadata": {},
     "output_type": "display_data"
    }
   ],
   "source": [
    "# Price distribution diagram\n",
    "plt.figure(figsize=(14, 6))\n",
    "df['price'].plot(kind='hist', color='violet', edgecolor='black')\n",
    "plt.title('Price distribution diagram', fontsize=14)\n",
    "plt.tight_layout()\n",
    "plt.show()"
   ]
  },
  {
   "cell_type": "code",
   "execution_count": 11,
   "id": "916490bb-dbd1-4b0a-a6bb-f4017680d05a",
   "metadata": {},
   "outputs": [
    {
     "data": {
      "image/png": "[encoded data removed]",
      "text/plain": [
       "<Figure size 400x400 with 1 Axes>"
      ]
     },
     "metadata": {},
     "output_type": "display_data"
    }
   ],
   "source": [
    "# A pie chart of the distribution of books by genre\n",
    "genre_counts = df['genre'].value_counts()\n",
    "plt.figure(figsize=(4, 4))\n",
    "genre_counts.plot(kind='pie', autopct='%1.1f%%', startangle=140, colors=['yellow', 'blue'])\n",
    "plt.title('The distribution of books by genre')\n",
    "plt.ylabel('')\n",
    "plt.tight_layout()\n",
    "plt.show()"
   ]
  },
  {
   "cell_type": "code",
   "execution_count": 12,
   "id": "eafe850b-1ce6-40ff-8dfb-96ef4cea7cb8",
   "metadata": {},
   "outputs": [
    {
     "name": "stdout",
     "output_type": "stream",
     "text": [
      "Answer: Maximum price — $105.00\n",
      "Answer: Minimum price — $0.00\n",
      "Answer: Average price — $13.10\n",
      "Answer: Median price — $11.00\n"
     ]
    }
   ],
   "source": [
    "# Determine what our maximum, minimum, average, median prices are\n",
    "max_price = df['price'].max()\n",
    "min_price = df['price'].min()\n",
    "mean_price = df['price'].mean()\n",
    "median_price = df['price'].median()\n",
    "\n",
    "print(f\"Answer: Maximum price — ${max_price:.2f}\")\n",
    "print(f\"Answer: Minimum price — ${min_price:.2f}\")\n",
    "print(f\"Answer: Average price — ${mean_price:.2f}\")\n",
    "print(f\"Answer: Median price — ${median_price:.2f}\")"
   ]
  },
  {
   "cell_type": "code",
   "execution_count": 13,
   "id": "ce4dbaf6-3d8b-4886-833d-02817bd2b19d",
   "metadata": {},
   "outputs": [
    {
     "name": "stdout",
     "output_type": "stream",
     "text": [
      "Answer: The highest rating in the dataset is 4.9.\n"
     ]
    }
   ],
   "source": [
    "# What is the highest rating in the dataset?\n",
    "max_rating = df['user_rating'].max()\n",
    "print(f\"Answer: The highest rating in the dataset is {max_rating}.\")"
   ]
  },
  {
   "cell_type": "code",
   "execution_count": 14,
   "id": "749bd554-cd71-43a4-8cdd-2cd9e365a8bb",
   "metadata": {},
   "outputs": [
    {
     "name": "stdout",
     "output_type": "stream",
     "text": [
      "Answer: 52 books have this rating.\n"
     ]
    }
   ],
   "source": [
    "# How many books have this rating?\n",
    "count_max_rating = df[df['user_rating'] == max_rating].shape[0]\n",
    "print(f\"Answer: {count_max_rating} books have this rating.\")"
   ]
  },
  {
   "cell_type": "code",
   "execution_count": 15,
   "id": "fa1fdc16-04a3-489f-9817-c83d1b4e64d6",
   "metadata": {},
   "outputs": [
    {
     "name": "stdout",
     "output_type": "stream",
     "text": [
      "Answer: The book with the largest number of reviews is 'Where the Crawdads Sing'.\n"
     ]
    }
   ],
   "source": [
    "# Which book has the largest number of reviews?\n",
    "most_reviews_book = df[df['reviews'] == df['reviews'].max()]['name'].values[0]\n",
    "print(f\"Answer: The book with the largest number of reviews is '{most_reviews_book}'.\")"
   ]
  },
  {
   "cell_type": "code",
   "execution_count": 16,
   "id": "95658cab-b3a8-4e8a-a9de-a8ddd04ab64f",
   "metadata": {},
   "outputs": [
    {
     "name": "stdout",
     "output_type": "stream",
     "text": [
      "Answer: The most expensive book in 2015 is 'Publication Manual of the American Psychological Association, 6th Edition'. Its price was - $46.00\n"
     ]
    }
   ],
   "source": [
    "# What is the most expensive book in 2015?\n",
    "top_2015 = df[df['year'] == 2015]\n",
    "most_expensive_2015 = top_2015[top_2015['price'] == top_2015['price'].max()]['name'].values[0]\n",
    "most_expensive_2015_price = top_2015[top_2015['price'] == top_2015['price'].max()]['price'].values[0]\n",
    "print(f\"Answer: The most expensive book in 2015 is '{most_expensive_2015}'. Its price was - ${most_expensive_2015_price:.2f}\")"
   ]
  },
  {
   "cell_type": "code",
   "execution_count": 17,
   "id": "21bfb70e-b6e5-49e0-9fe2-eacee2de93eb",
   "metadata": {},
   "outputs": [
    {
     "name": "stdout",
     "output_type": "stream",
     "text": [
      "Answer: 20 books in the genre of Fiction made it into the Top 50 in 2010.\n"
     ]
    }
   ],
   "source": [
    "# How many books in the genre of Fiction made it into the Top 50 in 2010?\n",
    "fiction_2010 = df[(df['genre'] == 'Fiction') & (df['year'] == 2010)].shape[0]\n",
    "print(f\"Answer: {fiction_2010} books in the genre of Fiction made it into the Top 50 in 2010.\")"
   ]
  },
  {
   "cell_type": "code",
   "execution_count": 18,
   "id": "dc6d2b73-4bf7-4a50-a9a7-720491cfa347",
   "metadata": {},
   "outputs": [
    {
     "name": "stdout",
     "output_type": "stream",
     "text": [
      "Answer: 1 book with a rating of 4.9 made the Top 50 in 2010 and 2011. This is:\n",
      "Jesus Calling: Enjoying Peace in His Presence (with Scripture References)\n"
     ]
    }
   ],
   "source": [
    "# How many books with a rating of 4.9 made the Top 50 in 2010 and 2011?\n",
    "books_49_2010_2011 = df[(df['user_rating'] == 4.9) & (df['year'].isin([2010, 2011]))]\n",
    "rating_49_2010_2011 = books_49_2010_2011.shape[0]\n",
    "rating_49_2010_2011_books = books_49_2010_2011['name'].unique()\n",
    "print(f\"Answer: {rating_49_2010_2011} book with a rating of 4.9 made the Top 50 in 2010 and 2011. This is:\")\n",
    "for book in rating_49_2010_2011_books:\n",
    "    print(book)"
   ]
  },
  {
   "cell_type": "code",
   "execution_count": 19,
   "id": "8ea3d589-cf7f-4514-95da-3cefa592cbb9",
   "metadata": {},
   "outputs": [
    {
     "name": "stdout",
     "output_type": "stream",
     "text": [
      "Answer: the last book in the sorted list is 'Old School (Diary of a Wimpy Kid #10)'.\n"
     ]
    }
   ],
   "source": [
    "# Let's sort by increasing price all the books that made it to the rating in 2015 and cost less than $8. \n",
    "# What is the last book in the sorted list?\n",
    "sorted_books_2015 = df[(df['year'] == 2015) & (df['price'] < 8)].sort_values(by='price')\n",
    "last_sorted_book = sorted_books_2015.iloc[-1]['name']\n",
    "print(f\"Answer: the last book in the sorted list is '{last_sorted_book}'.\")"
   ]
  },
  {
   "cell_type": "code",
   "execution_count": 20,
   "id": "850e518a-c939-4822-bf67-8e212f1a0eb4",
   "metadata": {},
   "outputs": [
    {
     "name": "stdout",
     "output_type": "stream",
     "text": [
      "Answer: Maximum price for the Fiction genre: $82.00\n",
      "Answer: Minimum price for Fiction genre (greater than 0): $2.00\n",
      "Answer: Maximum price for Non Fiction genre: $105.00\n",
      "Answer: Minimum price for Non Fiction genre (greater than 0): $1.00\n"
     ]
    }
   ],
   "source": [
    "# Maximum and minimum price for each genre\n",
    "df_filtered = df[df['price'] > 0]\n",
    "genre_price_stats_filtered = df_filtered.groupby('genre')['price'].agg(['min', 'max'])\n",
    "max_fiction_price = genre_price_stats_filtered.loc['Fiction', 'max']\n",
    "min_fiction_price = genre_price_stats_filtered.loc['Fiction', 'min']\n",
    "max_non_fiction_price = genre_price_stats_filtered.loc['Non Fiction', 'max']\n",
    "min_non_fiction_price = genre_price_stats_filtered.loc['Non Fiction', 'min']\n",
    "\n",
    "print(f\"Answer: Maximum price for the Fiction genre: ${max_fiction_price:.2f}\")\n",
    "print(f\"Answer: Minimum price for Fiction genre (greater than 0): ${min_fiction_price:.2f}\")\n",
    "print(f\"Answer: Maximum price for Non Fiction genre: ${max_non_fiction_price:.2f}\")\n",
    "print(f\"Answer: Minimum price for Non Fiction genre (greater than 0): ${min_non_fiction_price:.2f}\")"
   ]
  },
  {
   "cell_type": "code",
   "execution_count": 21,
   "id": "e75e7e0a-219f-43d8-89c3-41a811d9b3b3",
   "metadata": {},
   "outputs": [
    {
     "name": "stdout",
     "output_type": "stream",
     "text": [
      "Answer: Dimension of the table — (248, 2)\n",
      "Answer: The author who has the most books written — Jeff Kinney\n",
      "Answer: This author has — 12 books written\n"
     ]
    }
   ],
   "source": [
    "# Number of books for each author\n",
    "author_books_count = df.groupby('author')['name'].count().reset_index().rename(columns={'name': 'book_count'})\n",
    "table_shape = author_books_count.shape\n",
    "top_author = author_books_count.loc[author_books_count['book_count'].idxmax()]\n",
    "top_author_name = top_author['author']\n",
    "top_author_count = top_author['book_count']\n",
    "\n",
    "print(f\"Answer: Dimension of the table — {table_shape}\")\n",
    "print(f\"Answer: The author who has the most books written — {top_author_name}\")\n",
    "print(f\"Answer: This author has — {top_author_count} books written\")"
   ]
  },
  {
   "cell_type": "code",
   "execution_count": 22,
   "id": "2cc45278-3eaa-4c6e-a9c8-29c286e8c682",
   "metadata": {},
   "outputs": [
    {
     "name": "stdout",
     "output_type": "stream",
     "text": [
      "Answer: Donna Tartt has a minimum average rating\n",
      "Answer: His average rating is 3.9\n"
     ]
    }
   ],
   "source": [
    "# Average rating for each author\n",
    "author_avg_rating = df.groupby('author')['user_rating'].mean().reset_index().rename(columns={'user_rating': 'avg_rating'})\n",
    "min_avg_rating_author = author_avg_rating.loc[author_avg_rating['avg_rating'].idxmin()]\n",
    "min_avg_rating_author_name = min_avg_rating_author['author']\n",
    "min_avg_rating_author_rating = min_avg_rating_author['avg_rating']\n",
    "\n",
    "print(f\"Answer: {min_avg_rating_author_name} has a minimum average rating\")\n",
    "print(f\"Answer: His average rating is {min_avg_rating_author_rating:.1f}\")"
   ]
  },
  {
   "cell_type": "code",
   "execution_count": 23,
   "id": "6b57ad97-d656-4e1c-b225-fa0adb62542b",
   "metadata": {},
   "outputs": [
    {
     "name": "stdout",
     "output_type": "stream",
     "text": [
      "                         author  book_count  avg_rating\n",
      "0              Abraham Verghese           2    4.600000\n",
      "1                Adam Gasiewski           1    4.400000\n",
      "2                 Adam Mansbach           1    4.800000\n",
      "3                     Adir Levy           1    4.800000\n",
      "4    Admiral William H. McRaven           1    4.700000\n",
      "..                          ...         ...         ...\n",
      "243             Walter Isaacson           3    4.566667\n",
      "244               William Davis           2    4.400000\n",
      "245            William P. Young           2    4.600000\n",
      "246            Wizards RPG Team           3    4.800000\n",
      "247                Zhi Gang Sha           2    4.600000\n",
      "\n",
      "[248 rows x 3 columns]\n"
     ]
    }
   ],
   "source": [
    "# Joining two DataFrames\n",
    "combined_author_data = pd.concat([author_books_count.set_index('author'), author_avg_rating.set_index('author')], axis=1).reset_index()\n",
    "print(combined_author_data)"
   ]
  },
  {
   "cell_type": "code",
   "execution_count": 24,
   "id": "1ad23f23-c7f6-4f1c-813d-20a8ad002465",
   "metadata": {},
   "outputs": [
    {
     "name": "stdout",
     "output_type": "stream",
     "text": [
      "Answer: Muriel Barbery is the first author in the list.\n"
     ]
    }
   ],
   "source": [
    "# Sort DataFrame by increasing number of books and rating\n",
    "sorted_combined_author_data = combined_author_data.sort_values(by=['book_count', 'avg_rating'])\n",
    "first_author = sorted_combined_author_data.iloc[0]['author']\n",
    "print(f\"Answer: {first_author} is the first author in the list.\")"
   ]
  }
 ],
 "metadata": {
  "kernelspec": {
   "display_name": "Python 3 (ipykernel)",
   "language": "python",
   "name": "python3"
  },
  "language_info": {
   "codemirror_mode": {
    "name": "ipython",
    "version": 3
   },
   "file_extension": ".py",
   "mimetype": "text/x-python",
   "name": "python",
   "nbconvert_exporter": "python",
   "pygments_lexer": "ipython3",
   "version": "3.12.7"
  }
 },
 "nbformat": 4,
 "nbformat_minor": 5
}
