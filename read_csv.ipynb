{
 "cells": [
  {
   "cell_type": "code",
   "execution_count": 1,
   "id": "e7b7ba42-00b0-4e84-a613-40f75479d952",
   "metadata": {},
   "outputs": [],
   "source": [
    "%matplotlib inline"
   ]
  },
  {
   "cell_type": "code",
   "execution_count": 2,
   "id": "e89e162d-21e0-4326-b930-9dce14509e85",
   "metadata": {},
   "outputs": [],
   "source": [
    "import os\n",
    "import pandas as pd\n",
    "import matplotlib.pyplot as plt"
   ]
  },
  {
   "cell_type": "code",
   "execution_count": 3,
   "id": "978043dd-cea6-40bb-9497-c74738f11d12",
   "metadata": {},
   "outputs": [],
   "source": [
    "# Read the file 2017_jun_final.csv using the \"read_csv\" method\n",
    "df = pd.read_csv('./2017_jun_final.csv')"
   ]
  },
  {
   "cell_type": "code",
   "execution_count": 4,
   "id": "effb8d79-6d10-4c95-bbe2-1d23b6b5b3cc",
   "metadata": {},
   "outputs": [
    {
     "data": {
      "text/html": [
       "<div>\n",
       "<style scoped>\n",
       "    .dataframe tbody tr th:only-of-type {\n",
       "        vertical-align: middle;\n",
       "    }\n",
       "\n",
       "    .dataframe tbody tr th {\n",
       "        vertical-align: top;\n",
       "    }\n",
       "\n",
       "    .dataframe thead th {\n",
       "        text-align: right;\n",
       "    }\n",
       "</style>\n",
       "<table border=\"1\" class=\"dataframe\">\n",
       "  <thead>\n",
       "    <tr style=\"text-align: right;\">\n",
       "      <th></th>\n",
       "      <th>N</th>\n",
       "      <th>Посада</th>\n",
       "      <th>Мова програмування</th>\n",
       "      <th>Спеціалізація</th>\n",
       "      <th>...</th>\n",
       "      <th>current_job_exp</th>\n",
       "      <th>salary</th>\n",
       "      <th>Валюта</th>\n",
       "      <th>cls</th>\n",
       "    </tr>\n",
       "  </thead>\n",
       "  <tbody>\n",
       "    <tr>\n",
       "      <th>0</th>\n",
       "      <td>1</td>\n",
       "      <td>Junior QA engineer</td>\n",
       "      <td>NaN</td>\n",
       "      <td>Manual QA</td>\n",
       "      <td>...</td>\n",
       "      <td>0.5</td>\n",
       "      <td>400</td>\n",
       "      <td>NaN</td>\n",
       "      <td>QA</td>\n",
       "    </tr>\n",
       "    <tr>\n",
       "      <th>1</th>\n",
       "      <td>2</td>\n",
       "      <td>Junior QA engineer</td>\n",
       "      <td>NaN</td>\n",
       "      <td>Manual QA</td>\n",
       "      <td>...</td>\n",
       "      <td>0.0</td>\n",
       "      <td>430</td>\n",
       "      <td>NaN</td>\n",
       "      <td>QA</td>\n",
       "    </tr>\n",
       "    <tr>\n",
       "      <th>2</th>\n",
       "      <td>3</td>\n",
       "      <td>Software Engineer</td>\n",
       "      <td>C#/.NET</td>\n",
       "      <td>NaN</td>\n",
       "      <td>...</td>\n",
       "      <td>1.0</td>\n",
       "      <td>2500</td>\n",
       "      <td>NaN</td>\n",
       "      <td>DEV</td>\n",
       "    </tr>\n",
       "    <tr>\n",
       "      <th>3</th>\n",
       "      <td>4</td>\n",
       "      <td>Software Engineer</td>\n",
       "      <td>JavaScript</td>\n",
       "      <td>NaN</td>\n",
       "      <td>...</td>\n",
       "      <td>4.0</td>\n",
       "      <td>2000</td>\n",
       "      <td>NaN</td>\n",
       "      <td>DEV</td>\n",
       "    </tr>\n",
       "    <tr>\n",
       "      <th>4</th>\n",
       "      <td>5</td>\n",
       "      <td>Senior Software Engineer</td>\n",
       "      <td>JavaScript</td>\n",
       "      <td>NaN</td>\n",
       "      <td>...</td>\n",
       "      <td>0.5</td>\n",
       "      <td>4500</td>\n",
       "      <td>NaN</td>\n",
       "      <td>DEV</td>\n",
       "    </tr>\n",
       "    <tr>\n",
       "      <th>5</th>\n",
       "      <td>6</td>\n",
       "      <td>Project manager</td>\n",
       "      <td>NaN</td>\n",
       "      <td>NaN</td>\n",
       "      <td>...</td>\n",
       "      <td>1.0</td>\n",
       "      <td>400</td>\n",
       "      <td>NaN</td>\n",
       "      <td>PM</td>\n",
       "    </tr>\n",
       "    <tr>\n",
       "      <th>6</th>\n",
       "      <td>7</td>\n",
       "      <td>Junior Software Engineer</td>\n",
       "      <td>C#/.NET</td>\n",
       "      <td>NaN</td>\n",
       "      <td>...</td>\n",
       "      <td>0.0</td>\n",
       "      <td>600</td>\n",
       "      <td>NaN</td>\n",
       "      <td>DEV</td>\n",
       "    </tr>\n",
       "    <tr>\n",
       "      <th>7</th>\n",
       "      <td>8</td>\n",
       "      <td>Senior Software Engineer</td>\n",
       "      <td>C++</td>\n",
       "      <td>NaN</td>\n",
       "      <td>...</td>\n",
       "      <td>1.0</td>\n",
       "      <td>3300</td>\n",
       "      <td>NaN</td>\n",
       "      <td>DEV</td>\n",
       "    </tr>\n",
       "  </tbody>\n",
       "</table>\n",
       "<p>8 rows × 25 columns</p>\n",
       "</div>"
      ],
      "text/plain": [
       "   N                    Посада Мова програмування Спеціалізація  ...  \\\n",
       "0  1        Junior QA engineer                NaN     Manual QA  ...   \n",
       "1  2        Junior QA engineer                NaN     Manual QA  ...   \n",
       "2  3         Software Engineer            C#/.NET           NaN  ...   \n",
       "3  4         Software Engineer         JavaScript           NaN  ...   \n",
       "4  5  Senior Software Engineer         JavaScript           NaN  ...   \n",
       "5  6           Project manager                NaN           NaN  ...   \n",
       "6  7  Junior Software Engineer            C#/.NET           NaN  ...   \n",
       "7  8  Senior Software Engineer                C++           NaN  ...   \n",
       "\n",
       "  current_job_exp salary  Валюта  cls  \n",
       "0             0.5    400     NaN   QA  \n",
       "1             0.0    430     NaN   QA  \n",
       "2             1.0   2500     NaN  DEV  \n",
       "3             4.0   2000     NaN  DEV  \n",
       "4             0.5   4500     NaN  DEV  \n",
       "5             1.0    400     NaN   PM  \n",
       "6             0.0    600     NaN  DEV  \n",
       "7             1.0   3300     NaN  DEV  \n",
       "\n",
       "[8 rows x 25 columns]"
      ]
     },
     "execution_count": 4,
     "metadata": {},
     "output_type": "execute_result"
    }
   ],
   "source": [
    "# Display the resulting table using the \"head\" method\n",
    "pd.set_option('display.max_columns', 8) # hide the extra columns\n",
    "df.head(8)"
   ]
  },
  {
   "cell_type": "code",
   "execution_count": 5,
   "id": "85e5f464-568d-4e92-bdb9-22b7dfb4a5f7",
   "metadata": {},
   "outputs": [
    {
     "data": {
      "text/plain": [
       "(8704, 25)"
      ]
     },
     "execution_count": 5,
     "metadata": {},
     "output_type": "execute_result"
    }
   ],
   "source": [
    "# Determining the size of the table\n",
    "df.shape"
   ]
  },
  {
   "cell_type": "code",
   "execution_count": 6,
   "id": "2345f702-2a08-4bf2-b3ec-5a019bb41d59",
   "metadata": {},
   "outputs": [
    {
     "data": {
      "text/plain": [
       "N                                     int64\n",
       "Посада                               object\n",
       "Мова програмування                   object\n",
       "Спеціалізація                        object\n",
       "Загальний досвід роботи              object\n",
       "Досвід роботи на поточному місці     object\n",
       "Зарплата на місяць                    int64\n",
       "Зміна зарплати за 12 місяців          int64\n",
       "Місто                                object\n",
       "Розмір компанії                      object\n",
       "Тип компанії                         object\n",
       "Стать                                object\n",
       "Вік                                   int64\n",
       "Освіта                               object\n",
       "Університет                          object\n",
       "Ще студент                             bool\n",
       "Рівень англійської                   object\n",
       "Предметна область                    object\n",
       "Дата заповнення                      object\n",
       "User.Agent                           object\n",
       "exp                                 float64\n",
       "current_job_exp                     float64\n",
       "salary                                int64\n",
       "Валюта                               object\n",
       "cls                                  object\n",
       "dtype: object"
      ]
     },
     "execution_count": 6,
     "metadata": {},
     "output_type": "execute_result"
    }
   ],
   "source": [
    "# Defining the types of all columns\n",
    "df.dtypes"
   ]
  },
  {
   "cell_type": "code",
   "execution_count": 7,
   "id": "4825ffb6-4ff5-47a3-915a-20a3f2a55ad7",
   "metadata": {},
   "outputs": [
    {
     "name": "stdout",
     "output_type": "stream",
     "text": [
      "N                                    0.000000\n",
      "Посада                               0.000000\n",
      "Мова програмування                  44.232537\n",
      "Спеціалізація                       82.938879\n",
      "Загальний досвід роботи              0.000000\n",
      "Досвід роботи на поточному місці     0.000000\n",
      "Зарплата на місяць                   0.000000\n",
      "Зміна зарплати за 12 місяців         0.000000\n",
      "Місто                                0.000000\n",
      "Розмір компанії                      0.000000\n",
      "Тип компанії                         0.000000\n",
      "Стать                                0.000000\n",
      "Вік                                  0.000000\n",
      "Освіта                               0.000000\n",
      "Університет                          4.113051\n",
      "Ще студент                           0.000000\n",
      "Рівень англійської                   0.000000\n",
      "Предметна область                    2.562040\n",
      "Дата заповнення                      0.000000\n",
      "User.Agent                           0.000000\n",
      "exp                                  0.000000\n",
      "current_job_exp                      0.000000\n",
      "salary                               0.000000\n",
      "Валюта                              99.885110\n",
      "cls                                 18.083640\n",
      "dtype: float64\n"
     ]
    },
    {
     "data": {
      "image/png": "[encoded data removed]",
      "text/plain": [
       "<Figure size 1400x600 with 1 Axes>"
      ]
     },
     "metadata": {},
     "output_type": "display_data"
    }
   ],
   "source": [
    "# The proportion of omissions in each column\n",
    "missing_data_percent = df.isnull().sum() / len(df) * 100\n",
    "print(missing_data_percent)\n",
    "\n",
    "columns_with_missing_data = missing_data_percent[missing_data_percent > 0]\n",
    "plt.figure(figsize=(14, 6))\n",
    "columns_with_missing_data.plot(kind='bar', color='olive')\n",
    "plt.title('The proportion of omissions in each column', fontsize=20)\n",
    "plt.xlabel('Column', fontsize=16)\n",
    "plt.ylabel('Missing rate (%)', fontsize=16)\n",
    "plt.xticks(rotation=0, ha='center', fontsize=9)\n",
    "plt.tight_layout()\n",
    "plt.show()"
   ]
  },
  {
   "cell_type": "code",
   "execution_count": 8,
   "id": "1520b743-88d7-4d2c-bf00-29fb0e9e2d29",
   "metadata": {},
   "outputs": [],
   "source": [
    "# Remove all blank columns except the \"Мова програмування\" column\n",
    "language_column = df[\"Мова програмування\"]\n",
    "df_cleaned = df.dropna(axis=1)\n",
    "df_cleaned = pd.concat([df_cleaned, language_column], axis=1)"
   ]
  },
  {
   "cell_type": "code",
   "execution_count": 9,
   "id": "f151779f-89a5-4454-993b-ef5db08862b9",
   "metadata": {},
   "outputs": [
    {
     "data": {
      "text/plain": [
       "N                                    0.000000\n",
       "Посада                               0.000000\n",
       "Загальний досвід роботи              0.000000\n",
       "Досвід роботи на поточному місці     0.000000\n",
       "Зарплата на місяць                   0.000000\n",
       "Зміна зарплати за 12 місяців         0.000000\n",
       "Місто                                0.000000\n",
       "Розмір компанії                      0.000000\n",
       "Тип компанії                         0.000000\n",
       "Стать                                0.000000\n",
       "Вік                                  0.000000\n",
       "Освіта                               0.000000\n",
       "Ще студент                           0.000000\n",
       "Рівень англійської                   0.000000\n",
       "Дата заповнення                      0.000000\n",
       "User.Agent                           0.000000\n",
       "exp                                  0.000000\n",
       "current_job_exp                      0.000000\n",
       "salary                               0.000000\n",
       "Мова програмування                  44.232537\n",
       "dtype: float64"
      ]
     },
     "execution_count": 9,
     "metadata": {},
     "output_type": "execute_result"
    }
   ],
   "source": [
    "# Checking the percentage of misses after deletion\n",
    "df_cleaned.isnull().sum() / len(df_cleaned) * 100"
   ]
  },
  {
   "cell_type": "code",
   "execution_count": 10,
   "id": "79ddb64a-4749-4c6e-9ddd-2368d9f070a6",
   "metadata": {},
   "outputs": [],
   "source": [
    "# Delete all blank rows\n",
    "df_cleaned = df_cleaned.dropna()"
   ]
  },
  {
   "cell_type": "code",
   "execution_count": 11,
   "id": "931e64d7-cbf8-45f8-adb2-59c4fc6a1ab0",
   "metadata": {},
   "outputs": [
    {
     "data": {
      "text/plain": [
       "(4854, 20)"
      ]
     },
     "execution_count": 11,
     "metadata": {},
     "output_type": "execute_result"
    }
   ],
   "source": [
    "# New table size\n",
    "df_cleaned.shape"
   ]
  },
  {
   "cell_type": "code",
   "execution_count": 12,
   "id": "2b1b3a2f-834e-4e9f-ae82-2bfc16f4e587",
   "metadata": {},
   "outputs": [
    {
     "name": "stdout",
     "output_type": "stream",
     "text": [
      "         N                    Посада  ... salary Мова програмування\n",
      "12      13         Software Engineer  ...    800             Python\n",
      "68      69         Software Engineer  ...    900             Python\n",
      "87      88  Junior Software Engineer  ...    600             Python\n",
      "114    115  Junior Software Engineer  ...    685             Python\n",
      "143    144  Junior Software Engineer  ...    750             Python\n",
      "...    ...                       ...  ...    ...                ...\n",
      "8546  8547         Software Engineer  ...   2000             Python\n",
      "8625  8626         Software Engineer  ...   1750             Python\n",
      "8635  8636  Senior Software Engineer  ...   4000             Python\n",
      "8673  8674  Junior Software Engineer  ...    350             Python\n",
      "8695  8696         Software Engineer  ...   1500             Python\n",
      "\n",
      "[207 rows x 20 columns]\n"
     ]
    }
   ],
   "source": [
    "# A table of specialists who use Python\n",
    "pd.set_option('display.max_columns', 5) # hide the extra columns\n",
    "python_data = df_cleaned[df_cleaned[\"Мова програмування\"].str.contains(\"Python\", na=False)]\n",
    "print(python_data)"
   ]
  },
  {
   "cell_type": "code",
   "execution_count": 13,
   "id": "2a12bfde-5979-496b-9c10-a99a5b06d342",
   "metadata": {},
   "outputs": [
    {
     "data": {
      "text/plain": [
       "(207, 20)"
      ]
     },
     "execution_count": 13,
     "metadata": {},
     "output_type": "execute_result"
    }
   ],
   "source": [
    "# The size of the \"python_data\" table\n",
    "python_data.shape"
   ]
  },
  {
   "cell_type": "code",
   "execution_count": 14,
   "id": "c81d0b16-ff4b-46a4-820e-07096bcc564a",
   "metadata": {},
   "outputs": [],
   "source": [
    "# Grouping by \"Посада\" column\n",
    "grouped_data = python_data.groupby('Посада')"
   ]
  },
  {
   "cell_type": "code",
   "execution_count": 15,
   "id": "682319ad-7eb4-4089-abcd-5c3226d4c00f",
   "metadata": {},
   "outputs": [
    {
     "name": "stdout",
     "output_type": "stream",
     "text": [
      "                         Зарплата на місяць      \n",
      "                                        min   max\n",
      "Посада                                           \n",
      "Junior Software Engineer                100  1250\n",
      "Senior Software Engineer               1300  9200\n",
      "Software Engineer                       500  5400\n",
      "System Architect                       3000  5000\n",
      "Technical Lead                         1425  6200\n"
     ]
    }
   ],
   "source": [
    "# Data aggregation for minimum and maximum salary values\n",
    "agg_salary_data = grouped_data.agg({'Зарплата на місяць': ['min', 'max']})\n",
    "print(agg_salary_data)"
   ]
  },
  {
   "cell_type": "code",
   "execution_count": 16,
   "id": "dd47c277-1168-4f90-a6b1-c601179d1f96",
   "metadata": {},
   "outputs": [
    {
     "name": "stdout",
     "output_type": "stream",
     "text": [
      "                         Зарплата на місяць           avg\n",
      "                                        min   max        \n",
      "Посада                                                   \n",
      "Junior Software Engineer                100  1250   675.0\n",
      "Senior Software Engineer               1300  9200  5250.0\n",
      "Software Engineer                       500  5400  2950.0\n",
      "System Architect                       3000  5000  4000.0\n",
      "Technical Lead                         1425  6200  3812.5\n"
     ]
    }
   ],
   "source": [
    "# Adding a new column with average salary\n",
    "def fill_avg_salary(row):\n",
    "    return (row[('Зарплата на місяць', 'min')] + row[('Зарплата на місяць', 'max')]) / 2\n",
    "\n",
    "agg_salary_data['avg'] = agg_salary_data.apply(fill_avg_salary, axis=1)\n",
    "print(agg_salary_data)"
   ]
  },
  {
   "cell_type": "code",
   "execution_count": 17,
   "id": "61d5ef78-0795-4d20-a58c-427d5a7baa4f",
   "metadata": {},
   "outputs": [
    {
     "data": {
      "text/plain": [
       "count       5.000000\n",
       "mean     3337.500000\n",
       "std      1700.091909\n",
       "min       675.000000\n",
       "25%      2950.000000\n",
       "50%      3812.500000\n",
       "75%      4000.000000\n",
       "max      5250.000000\n",
       "Name: avg, dtype: float64"
      ]
     },
     "execution_count": 17,
     "metadata": {},
     "output_type": "execute_result"
    }
   ],
   "source": [
    "# Descriptive statistics for column \"avg\"\n",
    "agg_salary_data['avg'].describe()"
   ]
  },
  {
   "cell_type": "code",
   "execution_count": 18,
   "id": "41bb347a-17f5-4f22-b7da-c095118e56ec",
   "metadata": {},
   "outputs": [],
   "source": [
    "# Saving the table in CSV\n",
    "df.to_csv('processed_data.csv', index=False)"
   ]
  }
 ],
 "metadata": {
  "kernelspec": {
   "display_name": "Python 3 (ipykernel)",
   "language": "python",
   "name": "python3"
  },
  "language_info": {
   "codemirror_mode": {
    "name": "ipython",
    "version": 3
   },
   "file_extension": ".py",
   "mimetype": "text/x-python",
   "name": "python",
   "nbconvert_exporter": "python",
   "pygments_lexer": "ipython3",
   "version": "3.12.7"
  }
 },
 "nbformat": 4,
 "nbformat_minor": 5
}
